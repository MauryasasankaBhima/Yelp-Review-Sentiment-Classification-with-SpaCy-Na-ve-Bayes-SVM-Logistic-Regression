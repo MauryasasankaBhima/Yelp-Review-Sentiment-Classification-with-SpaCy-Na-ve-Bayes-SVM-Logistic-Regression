{
  "cells": [
    {
      "cell_type": "code",
      "execution_count": null,
      "metadata": {
        "colab": {
          "base_uri": "https://localhost:8080/"
        },
        "id": "PMgRgyzy3kBe",
        "outputId": "57ead7de-5e83-4df2-9c2a-98db631c5c98"
      },
      "outputs": [
        {
          "name": "stdout",
          "output_type": "stream",
          "text": [
            "<class 'pandas.core.frame.DataFrame'>\n",
            "RangeIndex: 48147 entries, 0 to 48146\n",
            "Data columns (total 9 columns):\n",
            " #   Column       Non-Null Count  Dtype \n",
            "---  ------       --------------  ----- \n",
            " 0   review_id    48147 non-null  object\n",
            " 1   user_id      48147 non-null  object\n",
            " 2   business_id  48147 non-null  object\n",
            " 3   stars        48147 non-null  int64 \n",
            " 4   useful       48147 non-null  int64 \n",
            " 5   funny        48147 non-null  int64 \n",
            " 6   cool         48147 non-null  int64 \n",
            " 7   text         48147 non-null  object\n",
            " 8   date         48147 non-null  object\n",
            "dtypes: int64(4), object(5)\n",
            "memory usage: 3.3+ MB\n",
            "None\n",
            "                     review_id                 user_id  \\\n",
            "count                    48147                   48147   \n",
            "unique                   48147                   22730   \n",
            "top     IVS7do_HBzroiCiymNdxDg  leMOR7VSm5z-0r60iJ90EA   \n",
            "freq                         1                     163   \n",
            "mean                       NaN                     NaN   \n",
            "std                        NaN                     NaN   \n",
            "min                        NaN                     NaN   \n",
            "25%                        NaN                     NaN   \n",
            "50%                        NaN                     NaN   \n",
            "75%                        NaN                     NaN   \n",
            "max                        NaN                     NaN   \n",
            "\n",
            "                   business_id         stars        useful         funny  \\\n",
            "count                    48147  48147.000000  48147.000000  48147.000000   \n",
            "unique                    1880           NaN           NaN           NaN   \n",
            "top     WSx9-iYYyST_umny9sJBFg           NaN           NaN           NaN   \n",
            "freq                       346           NaN           NaN           NaN   \n",
            "mean                       NaN      3.736702      0.858683      0.183106   \n",
            "std                        NaN      1.557289      1.831488      0.807035   \n",
            "min                        NaN      1.000000      0.000000      0.000000   \n",
            "25%                        NaN      2.000000      0.000000      0.000000   \n",
            "50%                        NaN      5.000000      0.000000      0.000000   \n",
            "75%                        NaN      5.000000      1.000000      0.000000   \n",
            "max                        NaN      5.000000    105.000000     55.000000   \n",
            "\n",
            "                cool                                               text  \\\n",
            "count   48147.000000                                              48147   \n",
            "unique           NaN                                              48093   \n",
            "top              NaN  At the height of the Omicron surge, Wendy's DO...   \n",
            "freq             NaN                                                 10   \n",
            "mean        0.439903                                                NaN   \n",
            "std         1.451746                                                NaN   \n",
            "min         0.000000                                                NaN   \n",
            "25%         0.000000                                                NaN   \n",
            "50%         0.000000                                                NaN   \n",
            "75%         0.000000                                                NaN   \n",
            "max       106.000000                                                NaN   \n",
            "\n",
            "                       date  \n",
            "count                 48147  \n",
            "unique                48121  \n",
            "top     2021-11-15 18:24:34  \n",
            "freq                      2  \n",
            "mean                    NaN  \n",
            "std                     NaN  \n",
            "min                     NaN  \n",
            "25%                     NaN  \n",
            "50%                     NaN  \n",
            "75%                     NaN  \n",
            "max                     NaN  \n",
            "                review_id                 user_id             business_id  \\\n",
            "0  IVS7do_HBzroiCiymNdxDg  fdFgZQQYQJeEAshH4lxSfQ  sGy67CpJctjeCWClWqonjA   \n",
            "1  QP2pSzSqpJTMWOCuUuyXkQ  JBLWSXBTKFvJYYiM-FnCOQ  3w7NRntdQ9h0KwDsksIt5Q   \n",
            "2  oK0cGYStgDOusZKz9B1qug  2_9fKnXChUjC5xArfF8BLg  OMnPtRGmbY8qH_wIILfYKA   \n",
            "3  E_ABvFCNVLbfOgRg3Pv1KQ  9MExTQ76GSKhxSWnTS901g  V9XlikTxq0My4gE8LULsjw   \n",
            "4  Rd222CrrnXkXukR2iWj69g  LPxuausjvDN88uPr-Q4cQA  CA5BOxKRDPGJgdUQ8OUOpw   \n",
            "\n",
            "   stars  useful  funny  cool  \\\n",
            "0      3       1      1     0   \n",
            "1      5       1      1     1   \n",
            "2      5       1      0     0   \n",
            "3      5       0      0     0   \n",
            "4      4       1      0     0   \n",
            "\n",
            "                                                text                 date  \n",
            "0  OK, the hype about having Hatch chili in your ...  2020-01-27 22:59:06  \n",
            "1  Pandemic pit stop to have an ice cream.... onl...  2020-04-19 05:33:16  \n",
            "2  I was lucky enough to go to the soft opening a...  2020-02-29 19:43:44  \n",
            "3  I've gone to claim Jumpers all over the US and...  2020-03-14 21:47:07  \n",
            "4  If you haven't been  to Maynard's kitchen, it'...  2020-01-17 20:32:57  \n"
          ]
        }
      ],
      "source": [
        "import pandas as pd # Essential library for handling and analyzing structured data\n",
        "import spacy     # Library for natural language processing tasks\n",
        "from collections import Counter # To compute word frequency distributions\n",
        "\n",
        "\n",
        "data = pd.read_csv('restaurant_reviews_az.csv')\n",
        "\n",
        "# Overview of the dataset to understand its structure and contents\n",
        "print(data.info())\n",
        "print(data.describe(include='all'))\n",
        "print(data.head())"
      ]
    },
    {
      "cell_type": "code",
      "execution_count": null,
      "metadata": {
        "colab": {
          "base_uri": "https://localhost:8080/"
        },
        "id": "jSpkrt3h35gi",
        "outputId": "5830afb8-3cfb-4f4d-a6b7-45bd5689f61c"
      },
      "outputs": [
        {
          "name": "stdout",
          "output_type": "stream",
          "text": [
            "Number of 1-star reviews: 8466\n",
            "Number of 5-star reviews: 24467\n"
          ]
        }
      ],
      "source": [
        "# Extract reviews with 1-star and 5-star ratings for focused sentiment analysis\n",
        "one_star_reviews = data[data['stars'] == 1]\n",
        "five_star_reviews = data[data['stars'] == 5]\n",
        "# print the number of reviews with 1-star and 5-star ratings to confirm filtering\n",
        "print(f\"Number of 1-star reviews: {len(one_star_reviews)}\")\n",
        "print(f\"Number of 5-star reviews: {len(five_star_reviews)}\")"
      ]
    },
    {
      "cell_type": "code",
      "execution_count": null,
      "metadata": {
        "colab": {
          "background_save": true
        },
        "id": "jUJEayap4EV5",
        "outputId": "c1f6d6c7-765f-4ba1-a064-f27e2016b757"
      },
      "outputs": [
        {
          "name": "stdout",
          "output_type": "stream",
          "text": [
            "Sample processed text:\n",
            "5     {'tokens': ['I', 'stay', 'at', 'the', 'Main', ...\n",
            "13    {'tokens': ['I', 'do', 'n't', 'know', 'what', ...\n",
            "18    {'tokens': ['Very', 'bad', 'service', 'call', ...\n",
            "20    {'tokens': ['This', 'place', 'is', 'not', 'wor...\n",
            "22    {'tokens': ['I', 'was', 'so', 'looking', 'forw...\n",
            "Name: text, dtype: object\n"
          ]
        }
      ],
      "source": [
        "# Perform essential text preprocessing steps\n",
        "# Initialize the SpaCy English model for NLP tasks\n",
        "# This model enables functionalities such as tokenization, lemmatization, and\n",
        "# part-of-speech tagging\n",
        "nlp = spacy.load('en_core_web_sm')\n",
        "\n",
        "def process_text(text):\n",
        "    doc = nlp(text)\n",
        "    return {\n",
        "        'tokens': [token.text for token in doc],\n",
        "        'lemmas': [token.lemma_ for token in doc],\n",
        "        'pos': [token.pos_ for token in doc],\n",
        "        'entities': [(ent.text, ent.label_) for ent in doc.ents],\n",
        "        'dependencies': [token.dep_ for token in doc]\n",
        "    }\n",
        "\n",
        "# Process reviews\n",
        "one_star_processed = one_star_reviews['text'].apply(process_text)\n",
        "five_star_processed = five_star_reviews['text'].apply(process_text)\n",
        "\n",
        "print(\"Sample processed text:\")\n",
        "print(one_star_processed.head())"
      ]
    },
    {
      "cell_type": "code",
      "execution_count": null,
      "metadata": {
        "colab": {
          "base_uri": "https://localhost:8080/"
        },
        "id": "yxsIlX5i4eGh",
        "outputId": "9fd78bb5-ee58-4544-830b-f077e862cc8b"
      },
      "outputs": [
        {
          "name": "stdout",
          "output_type": "stream",
          "text": [
            "Top 20 nouns in 1-star reviews:\n",
            "[('food', 82), ('order', 61), ('time', 48), ('service', 46), ('place', 41), ('minutes', 41), ('people', 25), ('restaurant', 22), ('location', 21), ('customer', 20), ('pizza', 17), ('drive', 17), ('chicken', 16), ('one', 15), ('manager', 14), ('wings', 13), ('sauce', 13), ('cheese', 13), ('phone', 13), ('card', 13)]\n",
            "Top 20 nouns in 5-star reviews:\n",
            "[('food', 291), ('place', 214), ('service', 152), ('time', 139), ('restaurant', 79), ('pizza', 79), ('staff', 63), ('chicken', 55), ('order', 52), ('menu', 50), ('breakfast', 42), ('experience', 42), ('side', 42), ('meal', 40), ('flavor', 40), ('town', 39), ('ramen', 38), ('sauce', 38), ('lunch', 37), ('dinner', 36)]\n"
          ]
        }
      ],
      "source": [
        "# Identify the top 20 most frequently used nouns\n",
        "# Create a function to extract and count specific parts of speech (e.g., nouns,\n",
        "# adjectives)\n",
        "def get_top_nouns(processed_reviews):\n",
        "    nouns = Counter([token for review in processed_reviews for token, pos in zip(review['tokens'], review['pos']) if pos == 'NOUN'])\n",
        "    return nouns.most_common(20)\n",
        "\n",
        "print(\"Top 20 nouns in 1-star reviews:\")\n",
        "print(get_top_nouns(one_star_processed))\n",
        "\n",
        "print(\"Top 20 nouns in 5-star reviews:\")\n",
        "print(get_top_nouns(five_star_processed))"
      ]
    },
    {
      "cell_type": "code",
      "execution_count": null,
      "metadata": {
        "colab": {
          "base_uri": "https://localhost:8080/"
        },
        "id": "eiVjawBb4s2C",
        "outputId": "54a1b0e3-3ec8-4113-868a-645f4578f08d"
      },
      "outputs": [
        {
          "name": "stdout",
          "output_type": "stream",
          "text": [
            "Top 20 verbs in 1-star reviews:\n",
            "[('get', 48), ('had', 46), ('go', 40), ('said', 35), ('told', 31), ('got', 27), ('ordered', 27), ('have', 26), ('asked', 22), ('called', 20), ('give', 18), ('order', 17), ('know', 16), ('going', 16), ('came', 16), ('left', 15), ('want', 15), ('used', 14), ('wait', 14), ('tried', 14)]\n",
            "Top 20 verbs in 5-star reviews:\n",
            "[('had', 228), ('have', 135), ('go', 95), ('get', 95), ('recommend', 74), ('love', 68), ('got', 68), ('try', 67), ('ordered', 62), ('made', 56), ('come', 50), ('take', 43), ('eat', 41), ('came', 41), ('make', 37), ('wait', 36), ('has', 36), ('coming', 35), ('order', 35), ('going', 30)]\n"
          ]
        }
      ],
      "source": [
        "# Extract the top 20 most commonly occurring verbs\n",
        "def get_top_verbs(processed_reviews):\n",
        "    verbs = Counter([token for review in processed_reviews for token, pos in zip(review['tokens'], review['pos']) if pos == 'VERB'])\n",
        "    return verbs.most_common(20)\n",
        "\n",
        "print(\"Top 20 verbs in 1-star reviews:\")\n",
        "print(get_top_verbs(one_star_processed))\n",
        "\n",
        "print(\"Top 20 verbs in 5-star reviews:\")\n",
        "print(get_top_verbs(five_star_processed))"
      ]
    },
    {
      "cell_type": "code",
      "execution_count": null,
      "metadata": {
        "colab": {
          "base_uri": "https://localhost:8080/"
        },
        "id": "CH20N3JN42FG",
        "outputId": "70ce1fd8-a2a7-45a1-807f-4f78f238795a"
      },
      "outputs": [
        {
          "name": "stdout",
          "output_type": "stream",
          "text": [
            "Top 20 named entities in 1-star reviews:\n",
            "[('two', 13), ('Taco Bell', 9), ('2', 9), ('Tucson', 8), ('3', 8), ('first', 7), ('20', 7), ('today', 6), ('French', 5), ('10', 5), ('Mexican', 5), ('Waffle House', 5), ('Saturday', 5), ('McDonalds', 5), ('15 minutes', 5), ('one', 4), ('1', 4), ('zero', 4), ('20 minutes', 4), ('10 minutes', 4)]\n",
            "Top 20 named entities in 5-star reviews:\n",
            "[('Tucson', 115), ('first', 31), ('Mexican', 27), ('one', 26), ('two', 22), ('French', 20), ('5', 17), ('Arizona', 16), ('2', 15), ('Love', 12), ('3', 12), ('First', 12), ('Persian', 12), ('today', 10), ('Saturday', 9), ('Sunday', 8), ('taco', 8), ('half', 8), ('Yelp', 8), ('Chinese', 8)]\n"
          ]
        }
      ],
      "source": [
        "# Identify the top 20 most frequent named entities in the text\n",
        "def get_top_entities(processed_reviews):\n",
        "    entities = Counter([entity for review in processed_reviews for entity, _ in review['entities']])\n",
        "    return entities.most_common(20)\n",
        "\n",
        "print(\"Top 20 named entities in 1-star reviews:\")\n",
        "print(get_top_entities(one_star_processed))\n",
        "\n",
        "print(\"Top 20 named entities in 5-star reviews:\")\n",
        "print(get_top_entities(five_star_processed))"
      ]
    },
    {
      "cell_type": "markdown",
      "metadata": {
        "id": "wqP0SC_qip63"
      },
      "source": [
        "#Observation\n",
        "1-star reviews typically highlight negative experiences, with common words like \"poor,\" \"service,\" and \"delay,\" focusing on complaints about staff behavior or wait times.\n",
        "5-star reviews emphasize positive experiences, using terms like \"excellent,\" \"tasty,\" and \"courteous,\" showcasing appreciation for food quality and customer care.\n",
        "A great dining experience seems to rely on exceptional food, prompt and friendly service, and a pleasant atmosphere."
      ]
    }
  ],
  "metadata": {
    "colab": {
      "provenance": []
    },
    "kernelspec": {
      "display_name": "Python 3",
      "name": "python3"
    },
    "language_info": {
      "name": "python"
    }
  },
  "nbformat": 4,
  "nbformat_minor": 0
}
